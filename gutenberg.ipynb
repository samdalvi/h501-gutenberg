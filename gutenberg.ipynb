{
 "cells": [
  {
   "cell_type": "code",
   "execution_count": 1,
   "id": "821dd550",
   "metadata": {},
   "outputs": [
    {
     "name": "stdout",
     "output_type": "stream",
     "text": [
      "Python executable: /workspaces/h501-gutenberg/h501-gutenberg/bin/python\n",
      "Python version: 3.12.1 (main, Jul 10 2025, 11:57:50) [GCC 13.3.0]\n",
      "\n",
      "==================================================\n",
      "Installed packages relevant to this project:\n",
      "==================================================\n"
     ]
    }
   ],
   "source": [
    "import sys\n",
    "print(\"Python executable:\", sys.executable)\n",
    "print(\"Python version:\", sys.version)\n",
    "print(\"\\n\" + \"=\"*50)\n",
    "print(\"Installed packages relevant to this project:\")\n",
    "print(\"=\"*50)\n"
   ]
  },
  {
   "cell_type": "code",
   "execution_count": 2,
   "id": "c2d7f0f9",
   "metadata": {},
   "outputs": [
    {
     "name": "stdout",
     "output_type": "stream",
     "text": [
      "✓ pandas          2.3.2\n",
      "✓ seaborn         0.13.2\n",
      "✓ matplotlib      3.10.6\n",
      "✓ ipykernel       6.30.1\n"
     ]
    }
   ],
   "source": [
    "# Check for required packages\n",
    "packages = ['pandas', 'seaborn', 'matplotlib', 'ipykernel']\n",
    "for package in packages:\n",
    "    try:\n",
    "        __import__(package)\n",
    "        import importlib.metadata\n",
    "        version = importlib.metadata.version(package)\n",
    "        print(f\"✓ {package:15} {version}\")\n",
    "    except ImportError:\n",
    "        print(f\"✗ {package:15} NOT INSTALLED\")"
   ]
  }
 ],
 "metadata": {
  "kernelspec": {
   "display_name": "h501-gutenberg",
   "language": "python",
   "name": "python3"
  },
  "language_info": {
   "codemirror_mode": {
    "name": "ipython",
    "version": 3
   },
   "file_extension": ".py",
   "mimetype": "text/x-python",
   "name": "python",
   "nbconvert_exporter": "python",
   "pygments_lexer": "ipython3",
   "version": "3.12.1"
  }
 },
 "nbformat": 4,
 "nbformat_minor": 5
}
